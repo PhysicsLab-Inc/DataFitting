{
 "cells": [
  {
   "cell_type": "code",
   "execution_count": 1,
   "metadata": {},
   "outputs": [
    {
     "name": "stderr",
     "output_type": "stream",
     "text": [
      "Using TensorFlow backend.\n"
     ]
    }
   ],
   "source": [
    "import numpy as np\n",
    "import matplotlib.pyplot as plot\n",
    "from keras import models, layers\n"
   ]
  },
  {
   "cell_type": "code",
   "execution_count": null,
   "metadata": {},
   "outputs": [],
   "source": [
    "imported_data=np.loadtxt('------')# Actualizar cuando tengamos datos de prueba\n",
    "\n",
    "x_data=imported_data[0]\n",
    "y_data=imported_data[1]\n",
    "\n",
    "x_val=x_data[:1000]\n",
    "partial_x_data=x_data[1000:]\n",
    "y_val=y_data[:1000]\n",
    "partial_y_data=y_data[1000:]\n",
    "\n",
    "shape=x_data.shape"
   ]
  },
  {
   "cell_type": "code",
   "execution_count": null,
   "metadata": {},
   "outputs": [],
   "source": [
    "'''Construimos la arquitectura de red'''\n",
    "model=models.Secuential()\n",
    "\n",
    "'''Empezamos con 3 capas, una vez empecemos a entrenar ya se puede mirar que conviene'''\n",
    "model.add(layers.Dense(64, activation='relu', input_shape=shape))\n",
    "model.add(layers.Dense(64, activation='relu'))\n",
    "model.add(layers.Dense(3, activation='softmax'))\n",
    "\n",
    "model.compile(optimizer='rmsprop',\n",
    "              loss='categorical_crossentropy',\n",
    "              metrics=['accuracy'])"
   ]
  },
  {
   "cell_type": "code",
   "execution_count": null,
   "metadata": {},
   "outputs": [],
   "source": [
    "'''Entrenamos la red un número elevado de pasos a ver cuando empieza a hacer overfitting'''\n",
    "num_epochs=30\n",
    "\n",
    "history=model.fit(partial_x_train,\n",
    "                  partial_y_train,\n",
    "                  epochs=num_epochs,\n",
    "                  batch_size=512,\n",
    "                  validation_data=(x_val, y_val))\n",
    "\n",
    "loss=history.history['loss']\n",
    "val_loss=history.history['val_loss']\n",
    "\n",
    "acc=history.history['acc']\n",
    "val_acc=history.history['val_acc']"
   ]
  },
  {
   "cell_type": "code",
   "execution_count": null,
   "metadata": {},
   "outputs": [],
   "source": [
    "plt.plot(range(1, num_epochs+1), loss, 'bo', label='Training loss')\n",
    "plt.plot(range(1, num_epochs+1), val_loss, 'b', label='Validation loss')\n",
    "plt.xlabel('Epochs')\n",
    "plt.ylabel('Loss')\n",
    "plt.title('Training and validation loss')\n",
    "plt.legend()\n",
    "\n",
    "plt.show()"
   ]
  },
  {
   "cell_type": "code",
   "execution_count": null,
   "metadata": {},
   "outputs": [],
   "source": [
    "plt.plot(range(1, num_epochs+1), acc, 'bo', label='Training acc')\n",
    "plt.plot(range(1, num_epochs+1), val_acc, 'b', label='Validation acc')\n",
    "plt.xlabel('Epochs')\n",
    "plt.ylabel('Accuracy')\n",
    "plt.title('Training and validation accuracy')\n",
    "plt.legend()\n",
    "\n",
    "plt.show()"
   ]
  }
 ],
 "metadata": {
  "kernelspec": {
   "display_name": "Python 3",
   "language": "python",
   "name": "python3"
  },
  "language_info": {
   "codemirror_mode": {
    "name": "ipython",
    "version": 3
   },
   "file_extension": ".py",
   "mimetype": "text/x-python",
   "name": "python",
   "nbconvert_exporter": "python",
   "pygments_lexer": "ipython3",
   "version": "3.7.3"
  }
 },
 "nbformat": 4,
 "nbformat_minor": 2
}
